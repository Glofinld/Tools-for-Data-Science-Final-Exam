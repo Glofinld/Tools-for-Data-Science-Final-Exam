{
 "cells": [
  {
   "cell_type": "markdown",
   "id": "f9f7f288",
   "metadata": {},
   "source": [
    "## Exercise 2 - Create markdown cell with title of the notebook"
   ]
  },
  {
   "cell_type": "markdown",
   "id": "7046ad79",
   "metadata": {},
   "source": [
    "# Data Science Tools and Ecosystem"
   ]
  },
  {
   "cell_type": "markdown",
   "id": "a3e4cabc",
   "metadata": {},
   "source": [
    "## Exercise 3 - Create a markdown cell for an introduction"
   ]
  },
  {
   "cell_type": "markdown",
   "id": "7388b9d5",
   "metadata": {},
   "source": [
    "In this notebook, Data Science Tools and Ecosystem are summarized."
   ]
  },
  {
   "cell_type": "markdown",
   "id": "bea4ead2",
   "metadata": {},
   "source": [
    "## Exercise 10 - Create a markdown cell for an introduction"
   ]
  },
  {
   "cell_type": "markdown",
   "id": "91e85e05",
   "metadata": {},
   "source": [
    "__Objectives :__\n",
    "- List popular data science languages\n",
    "- List commonly used libraries used by Data Scientists\n",
    "- List commonly used Data Science tools\n",
    "- Perform basic arithmetic exercises using Python"
   ]
  },
  {
   "cell_type": "markdown",
   "id": "ed53e99e",
   "metadata": {},
   "source": [
    "## Exercise 4 - Create a markdown cell to list data science languages"
   ]
  },
  {
   "cell_type": "markdown",
   "id": "49e91b0a",
   "metadata": {},
   "source": [
    "#### Some of the popular languages that Data Scientists use are:\n",
    "1. Python\n",
    "2. R\n",
    "3. C++\n",
    "4. SQL\n",
    "5. Java \n",
    "6. C++\n",
    "7. Julia"
   ]
  },
  {
   "cell_type": "markdown",
   "id": "d33efa4a",
   "metadata": {},
   "source": [
    "## Exercise 5 - Create a markdown cell to list data science libraries "
   ]
  },
  {
   "cell_type": "markdown",
   "id": "1f7933b1",
   "metadata": {},
   "source": [
    "#### Some of the commonly used libraries used by Data Scientists include:\n",
    "- Pandas \n",
    "- NumPy\n",
    "- SciPy\n",
    "- Matplotlib"
   ]
  },
  {
   "cell_type": "markdown",
   "id": "e7016a6c",
   "metadata": {},
   "source": [
    "## Exercise 6 - Create a markdown cell with a table of Data Science tools"
   ]
  },
  {
   "cell_type": "markdown",
   "id": "bbdc3c84",
   "metadata": {},
   "source": [
    "|Data Science Tools|\n",
    "|------------------|\n",
    "|RStudio|\n",
    "|Jupyter Lab|\n",
    "|Apache Zeppelin|"
   ]
  },
  {
   "cell_type": "markdown",
   "id": "386c811d",
   "metadata": {},
   "source": [
    "## Exercise 7 - Create a markdown cell introducing arithmetic expression examples"
   ]
  },
  {
   "cell_type": "markdown",
   "id": "69ab3fe1",
   "metadata": {},
   "source": [
    "### Below are a few examples of evaluating arithmetic expressions in Python\n",
    "- 2+2\n",
    "- 7*3\n",
    "- 14-2"
   ]
  },
  {
   "cell_type": "markdown",
   "id": "79b4582b",
   "metadata": {},
   "source": [
    "## Exercise 8 - Create a code cell to multiply and add numbers"
   ]
  },
  {
   "cell_type": "code",
   "execution_count": 52,
   "id": "eed468ef",
   "metadata": {},
   "outputs": [
    {
     "data": {
      "text/plain": [
       "17"
      ]
     },
     "execution_count": 52,
     "metadata": {},
     "output_type": "execute_result"
    }
   ],
   "source": [
    "# This a simple arithmetic expression to mutiply then add integers\n",
    "(3*4)+5"
   ]
  },
  {
   "cell_type": "markdown",
   "id": "781b66da",
   "metadata": {},
   "source": [
    "## Exercise 9 - Create a code cell to convert minutes to hours"
   ]
  },
  {
   "cell_type": "code",
   "execution_count": 42,
   "id": "b9f53153",
   "metadata": {},
   "outputs": [
    {
     "name": "stdout",
     "output_type": "stream",
     "text": [
      "3.3333333333333335\n"
     ]
    }
   ],
   "source": [
    "# This will convert 200 minutes to hours by diving by 60\n",
    "NbMinutes <- 200\n",
    "NbHours <- NbMinutes / 60\n",
    "print(NbHours)"
   ]
  },
  {
   "cell_type": "markdown",
   "id": "dc329f82",
   "metadata": {},
   "source": [
    "## Exercise 10 - Insert a markdown cell to list Objectives"
   ]
  },
  {
   "cell_type": "markdown",
   "id": "2e09bd81",
   "metadata": {},
   "source": [
    "See cell below the introduction cell created in Exercise 3"
   ]
  },
  {
   "cell_type": "markdown",
   "id": "94962681",
   "metadata": {},
   "source": [
    "## Exercise 11 - Create a markdown cell to indicate the Author's name"
   ]
  },
  {
   "cell_type": "markdown",
   "id": "432fcddc",
   "metadata": {},
   "source": [
    "## Author\n",
    "Clément Obrador"
   ]
  },
  {
   "cell_type": "code",
   "execution_count": null,
   "id": "67334a4d",
   "metadata": {},
   "outputs": [],
   "source": []
  }
 ],
 "metadata": {
  "kernelspec": {
   "display_name": "Python 3 (ipykernel)",
   "language": "python",
   "name": "python3"
  },
  "language_info": {
   "codemirror_mode": {
    "name": "ipython",
    "version": 3
   },
   "file_extension": ".py",
   "mimetype": "text/x-python",
   "name": "python",
   "nbconvert_exporter": "python",
   "pygments_lexer": "ipython3",
   "version": "3.11.5"
  }
 },
 "nbformat": 4,
 "nbformat_minor": 5
}
